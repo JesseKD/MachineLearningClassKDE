{
  "nbformat": 4,
  "nbformat_minor": 0,
  "metadata": {
    "colab": {
      "provenance": [],
      "collapsed_sections": []
    },
    "kernelspec": {
      "name": "python3",
      "display_name": "Python 3"
    },
    "language_info": {
      "name": "python"
    }
  },
  "cells": [
    {
      "cell_type": "code",
      "execution_count": 35,
      "metadata": {
        "id": "kLRQSPGu8Oca"
      },
      "outputs": [],
      "source": [
        "#Importing stuff\n",
        "\n",
        "%matplotlib inline\n",
        "import matplotlib.pyplot as plt\n",
        "import seaborn as sns; sns.set()\n",
        "import numpy as np\n",
        "import pandas as pd\n",
        "from sklearn.neighbors import KernelDensity"
      ]
    },
    {
      "cell_type": "code",
      "source": [
        "#accessing google drive\n",
        "from google.colab import drive\n",
        "drive.mount('/content/drive/')"
      ],
      "metadata": {
        "colab": {
          "base_uri": "https://localhost:8080/"
        },
        "id": "bd8H948k8brx",
        "outputId": "2e268a90-ca34-4e48-f3a7-3c5337e57584"
      },
      "execution_count": 36,
      "outputs": [
        {
          "output_type": "stream",
          "name": "stdout",
          "text": [
            "Drive already mounted at /content/drive/; to attempt to forcibly remount, call drive.mount(\"/content/drive/\", force_remount=True).\n"
          ]
        }
      ]
    },
    {
      "cell_type": "code",
      "source": [
        "cd drive/My\\Drive"
      ],
      "metadata": {
        "colab": {
          "base_uri": "https://localhost:8080/"
        },
        "id": "ucL2B_fU9d__",
        "outputId": "f5a7194b-91f8-4920-d944-8a9f740ec610"
      },
      "execution_count": 37,
      "outputs": [
        {
          "output_type": "stream",
          "name": "stdout",
          "text": [
            "[Errno 2] No such file or directory: 'drive/MyDrive'\n",
            "/content/drive/MyDrive\n"
          ]
        }
      ]
    },
    {
      "cell_type": "code",
      "source": [
        "#downloading data from csv\n",
        "StarData = pd.read_csv('StarData.csv')\n"
      ],
      "metadata": {
        "id": "7-xkRYihA0FK"
      },
      "execution_count": 38,
      "outputs": []
    },
    {
      "cell_type": "code",
      "source": [
        "#defining features and target\n",
        "featuresns = StarData.drop(['Star type','Star color','Spectral Class'],axis = 1)\n",
        "target = StarData['Star type']"
      ],
      "metadata": {
        "colab": {
          "base_uri": "https://localhost:8080/"
        },
        "id": "Thn3gTZgAH_y",
        "outputId": "1cc14261-2bff-4e3b-ec67-69aee6eaf305"
      },
      "execution_count": 39,
      "outputs": [
        {
          "output_type": "stream",
          "name": "stdout",
          "text": [
            "     Temperature (K)  Luminosity(L/Lo)  Radius(R/Ro)  Absolute magnitude(Mv)\n",
            "0               3068          0.002400        0.1700                   16.12\n",
            "1               3042          0.000500        0.1542                   16.60\n",
            "2               2600          0.000300        0.1020                   18.70\n",
            "3               2800          0.000200        0.1600                   16.65\n",
            "4               1939          0.000138        0.1030                   20.06\n",
            "..               ...               ...           ...                     ...\n",
            "235            38940     374830.000000     1356.0000                   -9.93\n",
            "236            30839     834042.000000     1194.0000                  -10.63\n",
            "237             8829     537493.000000     1423.0000                  -10.73\n",
            "238             9235     404940.000000     1112.0000                  -11.23\n",
            "239            37882     294903.000000     1783.0000                   -7.80\n",
            "\n",
            "[240 rows x 4 columns]\n"
          ]
        }
      ]
    },
    {
      "cell_type": "code",
      "source": [
        "#Scaling the features data\n",
        "featuresns.to_numpy\n",
        "from sklearn.preprocessing import StandardScaler\n",
        "scaler = StandardScaler()\n",
        "scaler.fit(featuresns)\n",
        "dataStar = scaler.transform(featuresns)\n",
        "features = pd.DataFrame(dataStar, columns = ['Temperature (K)','Luminosity(L/Lo)','Radius(R/Ro)','Absolute magnitude(Mv)'])\n",
        "         \n"
      ],
      "metadata": {
        "id": "ko101f7ypwgc"
      },
      "execution_count": 40,
      "outputs": []
    },
    {
      "cell_type": "code",
      "source": [
        "features.head()"
      ],
      "metadata": {
        "colab": {
          "base_uri": "https://localhost:8080/",
          "height": 206
        },
        "id": "wNB2mVpSpPtv",
        "outputId": "a95639b9-c28c-4ae1-f77d-6e5d9eedfcaf"
      },
      "execution_count": 41,
      "outputs": [
        {
          "output_type": "execute_result",
          "data": {
            "text/plain": [
              "   Temperature (K)  Luminosity(L/Lo)  Radius(R/Ro)  Absolute magnitude(Mv)\n",
              "0        -0.779382         -0.598624     -0.459210                1.116745\n",
              "1        -0.782110         -0.598624     -0.459241                1.162414\n",
              "2        -0.828477         -0.598624     -0.459342                1.362213\n",
              "3        -0.807496         -0.598624     -0.459229                1.167171\n",
              "4        -0.897819         -0.598624     -0.459340                1.491607"
            ],
            "text/html": [
              "\n",
              "  <div id=\"df-4a1c4d16-e95e-47dd-b494-b5082b2cc371\">\n",
              "    <div class=\"colab-df-container\">\n",
              "      <div>\n",
              "<style scoped>\n",
              "    .dataframe tbody tr th:only-of-type {\n",
              "        vertical-align: middle;\n",
              "    }\n",
              "\n",
              "    .dataframe tbody tr th {\n",
              "        vertical-align: top;\n",
              "    }\n",
              "\n",
              "    .dataframe thead th {\n",
              "        text-align: right;\n",
              "    }\n",
              "</style>\n",
              "<table border=\"1\" class=\"dataframe\">\n",
              "  <thead>\n",
              "    <tr style=\"text-align: right;\">\n",
              "      <th></th>\n",
              "      <th>Temperature (K)</th>\n",
              "      <th>Luminosity(L/Lo)</th>\n",
              "      <th>Radius(R/Ro)</th>\n",
              "      <th>Absolute magnitude(Mv)</th>\n",
              "    </tr>\n",
              "  </thead>\n",
              "  <tbody>\n",
              "    <tr>\n",
              "      <th>0</th>\n",
              "      <td>-0.779382</td>\n",
              "      <td>-0.598624</td>\n",
              "      <td>-0.459210</td>\n",
              "      <td>1.116745</td>\n",
              "    </tr>\n",
              "    <tr>\n",
              "      <th>1</th>\n",
              "      <td>-0.782110</td>\n",
              "      <td>-0.598624</td>\n",
              "      <td>-0.459241</td>\n",
              "      <td>1.162414</td>\n",
              "    </tr>\n",
              "    <tr>\n",
              "      <th>2</th>\n",
              "      <td>-0.828477</td>\n",
              "      <td>-0.598624</td>\n",
              "      <td>-0.459342</td>\n",
              "      <td>1.362213</td>\n",
              "    </tr>\n",
              "    <tr>\n",
              "      <th>3</th>\n",
              "      <td>-0.807496</td>\n",
              "      <td>-0.598624</td>\n",
              "      <td>-0.459229</td>\n",
              "      <td>1.167171</td>\n",
              "    </tr>\n",
              "    <tr>\n",
              "      <th>4</th>\n",
              "      <td>-0.897819</td>\n",
              "      <td>-0.598624</td>\n",
              "      <td>-0.459340</td>\n",
              "      <td>1.491607</td>\n",
              "    </tr>\n",
              "  </tbody>\n",
              "</table>\n",
              "</div>\n",
              "      <button class=\"colab-df-convert\" onclick=\"convertToInteractive('df-4a1c4d16-e95e-47dd-b494-b5082b2cc371')\"\n",
              "              title=\"Convert this dataframe to an interactive table.\"\n",
              "              style=\"display:none;\">\n",
              "        \n",
              "  <svg xmlns=\"http://www.w3.org/2000/svg\" height=\"24px\"viewBox=\"0 0 24 24\"\n",
              "       width=\"24px\">\n",
              "    <path d=\"M0 0h24v24H0V0z\" fill=\"none\"/>\n",
              "    <path d=\"M18.56 5.44l.94 2.06.94-2.06 2.06-.94-2.06-.94-.94-2.06-.94 2.06-2.06.94zm-11 1L8.5 8.5l.94-2.06 2.06-.94-2.06-.94L8.5 2.5l-.94 2.06-2.06.94zm10 10l.94 2.06.94-2.06 2.06-.94-2.06-.94-.94-2.06-.94 2.06-2.06.94z\"/><path d=\"M17.41 7.96l-1.37-1.37c-.4-.4-.92-.59-1.43-.59-.52 0-1.04.2-1.43.59L10.3 9.45l-7.72 7.72c-.78.78-.78 2.05 0 2.83L4 21.41c.39.39.9.59 1.41.59.51 0 1.02-.2 1.41-.59l7.78-7.78 2.81-2.81c.8-.78.8-2.07 0-2.86zM5.41 20L4 18.59l7.72-7.72 1.47 1.35L5.41 20z\"/>\n",
              "  </svg>\n",
              "      </button>\n",
              "      \n",
              "  <style>\n",
              "    .colab-df-container {\n",
              "      display:flex;\n",
              "      flex-wrap:wrap;\n",
              "      gap: 12px;\n",
              "    }\n",
              "\n",
              "    .colab-df-convert {\n",
              "      background-color: #E8F0FE;\n",
              "      border: none;\n",
              "      border-radius: 50%;\n",
              "      cursor: pointer;\n",
              "      display: none;\n",
              "      fill: #1967D2;\n",
              "      height: 32px;\n",
              "      padding: 0 0 0 0;\n",
              "      width: 32px;\n",
              "    }\n",
              "\n",
              "    .colab-df-convert:hover {\n",
              "      background-color: #E2EBFA;\n",
              "      box-shadow: 0px 1px 2px rgba(60, 64, 67, 0.3), 0px 1px 3px 1px rgba(60, 64, 67, 0.15);\n",
              "      fill: #174EA6;\n",
              "    }\n",
              "\n",
              "    [theme=dark] .colab-df-convert {\n",
              "      background-color: #3B4455;\n",
              "      fill: #D2E3FC;\n",
              "    }\n",
              "\n",
              "    [theme=dark] .colab-df-convert:hover {\n",
              "      background-color: #434B5C;\n",
              "      box-shadow: 0px 1px 3px 1px rgba(0, 0, 0, 0.15);\n",
              "      filter: drop-shadow(0px 1px 2px rgba(0, 0, 0, 0.3));\n",
              "      fill: #FFFFFF;\n",
              "    }\n",
              "  </style>\n",
              "\n",
              "      <script>\n",
              "        const buttonEl =\n",
              "          document.querySelector('#df-4a1c4d16-e95e-47dd-b494-b5082b2cc371 button.colab-df-convert');\n",
              "        buttonEl.style.display =\n",
              "          google.colab.kernel.accessAllowed ? 'block' : 'none';\n",
              "\n",
              "        async function convertToInteractive(key) {\n",
              "          const element = document.querySelector('#df-4a1c4d16-e95e-47dd-b494-b5082b2cc371');\n",
              "          const dataTable =\n",
              "            await google.colab.kernel.invokeFunction('convertToInteractive',\n",
              "                                                     [key], {});\n",
              "          if (!dataTable) return;\n",
              "\n",
              "          const docLinkHtml = 'Like what you see? Visit the ' +\n",
              "            '<a target=\"_blank\" href=https://colab.research.google.com/notebooks/data_table.ipynb>data table notebook</a>'\n",
              "            + ' to learn more about interactive tables.';\n",
              "          element.innerHTML = '';\n",
              "          dataTable['output_type'] = 'display_data';\n",
              "          await google.colab.output.renderOutput(dataTable, element);\n",
              "          const docLink = document.createElement('div');\n",
              "          docLink.innerHTML = docLinkHtml;\n",
              "          element.appendChild(docLink);\n",
              "        }\n",
              "      </script>\n",
              "    </div>\n",
              "  </div>\n",
              "  "
            ]
          },
          "metadata": {},
          "execution_count": 41
        }
      ]
    },
    {
      "cell_type": "code",
      "source": [
        "target.head()"
      ],
      "metadata": {
        "colab": {
          "base_uri": "https://localhost:8080/"
        },
        "id": "_m1cn_ZIuD0o",
        "outputId": "74beace3-7960-4283-bd0f-5cb822231ba8"
      },
      "execution_count": 62,
      "outputs": [
        {
          "output_type": "execute_result",
          "data": {
            "text/plain": [
              "0    0\n",
              "1    0\n",
              "2    0\n",
              "3    0\n",
              "4    0\n",
              "Name: Star type, dtype: int64"
            ]
          },
          "metadata": {},
          "execution_count": 62
        }
      ]
    },
    {
      "cell_type": "code",
      "source": [
        "#Creating custom estimator from lecture\n",
        "from sklearn.base import BaseEstimator, ClassifierMixin\n",
        "\n",
        "\n",
        "class KDEClassifier(BaseEstimator, ClassifierMixin):\n",
        "    \"\"\"Bayesian generative classification based on KDE\n",
        "    \n",
        "    Parameters\n",
        "    ----------\n",
        "    bandwidth : float\n",
        "        the kernel bandwidth within each class\n",
        "    kernel : str\n",
        "        the kernel name, passed to KernelDensity\n",
        "    \"\"\"\n",
        "    def __init__(self, bandwidth=1.0, kernel='gaussian'):\n",
        "        self.bandwidth = bandwidth\n",
        "        self.kernel = kernel\n",
        "        \n",
        "    def fit(self, X, y):\n",
        "        self.classes_ = np.sort(np.unique(y))\n",
        "        training_sets = [X[y == yi] for yi in self.classes_]\n",
        "        self.models_ = [KernelDensity(bandwidth=self.bandwidth,\n",
        "                                      kernel=self.kernel).fit(Xi)\n",
        "                        for Xi in training_sets]\n",
        "        self.logpriors_ = [np.log(Xi.shape[0] / X.shape[0])\n",
        "                           for Xi in training_sets]\n",
        "        return self\n",
        "        \n",
        "    def predict_proba(self, X):\n",
        "        logprobs = np.array([model.score_samples(X)\n",
        "                             for model in self.models_]).T\n",
        "        result = np.exp(logprobs + self.logpriors_)\n",
        "        return result / result.sum(1, keepdims=True)\n",
        "        \n",
        "    def predict(self, X):\n",
        "        return self.classes_[np.argmax(self.predict_proba(X), 1)]"
      ],
      "metadata": {
        "id": "GBmCj0EFCFYc"
      },
      "execution_count": 42,
      "outputs": []
    },
    {
      "cell_type": "code",
      "source": [
        "#applying it to my features and target\n",
        "from sklearn.model_selection import GridSearchCV\n",
        "np.seterr(invalid='ignore')\n",
        "\n",
        "bandwidths = 10 ** np.linspace(-5, 1, 100)\n",
        "grid = GridSearchCV(KDEClassifier(), {'bandwidth': bandwidths})\n",
        "grid.fit(features, target)\n",
        "\n",
        "scores = grid.cv_results_['mean_test_score']\n"
      ],
      "metadata": {
        "id": "yGobxgx8DK4e"
      },
      "execution_count": 43,
      "outputs": []
    },
    {
      "cell_type": "code",
      "source": [
        "#plotting the KDE Model performance\n",
        "plt.semilogx(bandwidths, scores)\n",
        "plt.xlabel('bandwidth')\n",
        "plt.ylabel('accuracy')\n",
        "plt.title('KDE Model Performance')\n",
        "print(grid.best_params_)\n",
        "print('accuracy =', grid.best_score_)"
      ],
      "metadata": {
        "colab": {
          "base_uri": "https://localhost:8080/",
          "height": 343
        },
        "id": "nizfWuKWD18E",
        "outputId": "4804cd4a-e9d8-461d-ccf9-0a2388d71ad4"
      },
      "execution_count": 44,
      "outputs": [
        {
          "output_type": "stream",
          "name": "stdout",
          "text": [
            "{'bandwidth': 0.07564633275546291}\n",
            "accuracy = 0.9833333333333334\n"
          ]
        },
        {
          "output_type": "display_data",
          "data": {
            "text/plain": [
              "<Figure size 432x288 with 1 Axes>"
            ],
            "image/png": "[encoded data removed]"
          },
          "metadata": {}
        }
      ]
    },
    {
      "cell_type": "code",
      "source": [
        "#what you get using naive bayes\n",
        "from sklearn.naive_bayes import GaussianNB\n",
        "from sklearn.model_selection import cross_val_score\n",
        "cross_val_score(GaussianNB(), features, target).mean()\n",
        "\n",
        "#naive bayes is probably better in this case because the scatter plots for the stars probably follow some sort of gaussian shape whereas the digits were more messy"
      ],
      "metadata": {
        "colab": {
          "base_uri": "https://localhost:8080/"
        },
        "id": "OnY80tX8Ixre",
        "outputId": "41cecc33-8a78-48b4-bfb6-7c8cd9690884"
      },
      "execution_count": 45,
      "outputs": [
        {
          "output_type": "execute_result",
          "data": {
            "text/plain": [
              "0.9916666666666666"
            ]
          },
          "metadata": {},
          "execution_count": 45
        }
      ]
    },
    {
      "cell_type": "code",
      "source": [
        "#what you get using naive bayes with no scaling\n",
        "from sklearn.naive_bayes import GaussianNB\n",
        "from sklearn.model_selection import cross_val_score\n",
        "cross_val_score(GaussianNB(), featuresns, target).mean()"
      ],
      "metadata": {
        "colab": {
          "base_uri": "https://localhost:8080/"
        },
        "id": "q38g2MJTvsYO",
        "outputId": "4d314daf-1c00-4a64-ce29-5c450a8df07d"
      },
      "execution_count": 46,
      "outputs": [
        {
          "output_type": "execute_result",
          "data": {
            "text/plain": [
              "0.8625"
            ]
          },
          "metadata": {},
          "execution_count": 46
        }
      ]
    },
    {
      "cell_type": "code",
      "source": [
        "#plotting data from csv file directly \n",
        "nstar = StarData.to_numpy()\n",
        "\n",
        "scatter = plt.scatter(nstar[:,0], nstar[:,3])\n",
        "ax = scatter.axes\n",
        "ax.invert_xaxis()\n",
        "ax.invert_yaxis()\n",
        "\n",
        "plt.xlabel('Temperature (K)')\n",
        "plt.ylabel('Absolute magnitude(Mv)')\n",
        "plt.title('Hertzsprung-Russell Diagram')"
      ],
      "metadata": {
        "colab": {
          "base_uri": "https://localhost:8080/",
          "height": 319
        },
        "id": "LZnphiYsqPqL",
        "outputId": "e57242ff-e9c9-4623-ce33-f788e2d7e2aa"
      },
      "execution_count": 51,
      "outputs": [
        {
          "output_type": "execute_result",
          "data": {
            "text/plain": [
              "Text(0.5, 1.0, 'Hertzsprung-Russell Diagram')"
            ]
          },
          "metadata": {},
          "execution_count": 51
        },
        {
          "output_type": "display_data",
          "data": {
            "text/plain": [
              "<Figure size 432x288 with 1 Axes>"
            ],
            "image/png": "[encoded data removed]"
          },
          "metadata": {}
        }
      ]
    },
    {
      "cell_type": "code",
      "source": [
        "#creating new \"fake\" data using KDE (unscaled version)\n",
        "params = {\"bandwidth\": np.logspace(-2, 0, 20)}\n",
        "grid = GridSearchCV(KernelDensity(), params)\n",
        "grid.fit(featuresns)\n",
        "\n",
        "print(\"best bandwidth: {0}\".format(grid.best_estimator_.bandwidth))\n",
        "\n",
        "kde = grid.best_estimator_\n",
        "\n",
        "new_data = kde.sample(230, random_state=0)"
      ],
      "metadata": {
        "colab": {
          "base_uri": "https://localhost:8080/"
        },
        "id": "yr-9asvpCT-N",
        "outputId": "04c6e7a3-a0c4-4b02-d1a4-51d5daddecfa"
      },
      "execution_count": 60,
      "outputs": [
        {
          "output_type": "stream",
          "name": "stdout",
          "text": [
            "best bandwidth: 1.0\n"
          ]
        }
      ]
    },
    {
      "cell_type": "code",
      "source": [
        "#Plotting new data generated from KDE\n",
        "scatter = plt.scatter((new_data)[:,0], (new_data)[:,3])\n",
        "ax = scatter.axes\n",
        "ax.invert_xaxis()\n",
        "ax.invert_yaxis()\n",
        "\n",
        "plt.xlabel('Temperature (K)')\n",
        "plt.ylabel('Absolute magnitude(Mv)')\n",
        "plt.title('Hertzsprung-Russell Diagram')"
      ],
      "metadata": {
        "colab": {
          "base_uri": "https://localhost:8080/",
          "height": 319
        },
        "id": "Ak05FOAOulZ5",
        "outputId": "1bb4065a-3f18-44e3-ef1f-55689e21d91a"
      },
      "execution_count": 61,
      "outputs": [
        {
          "output_type": "execute_result",
          "data": {
            "text/plain": [
              "Text(0.5, 1.0, 'Hertzsprung-Russell Diagram')"
            ]
          },
          "metadata": {},
          "execution_count": 61
        },
        {
          "output_type": "display_data",
          "data": {
            "text/plain": [
              "<Figure size 432x288 with 1 Axes>"
            ],
            "image/png": "[encoded data removed]"
          },
          "metadata": {}
        }
      ]
    },
    {
      "cell_type": "code",
      "source": [],
      "metadata": {
        "id": "c7je2_BPpgsk"
      },
      "execution_count": null,
      "outputs": []
    }
  ]
}